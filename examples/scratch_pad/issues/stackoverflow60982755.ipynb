{
 "cells": [
  {
   "cell_type": "code",
   "execution_count": 2,
   "metadata": {},
   "outputs": [],
   "source": [
    "# This allows multiple outputs from a single jupyter notebook cell:\n",
    "from IPython.core.interactiveshell import InteractiveShell\n",
    "InteractiveShell.ast_node_interactivity = \"all\""
   ]
  },
  {
   "cell_type": "code",
   "execution_count": 3,
   "metadata": {},
   "outputs": [],
   "source": [
    "%matplotlib inline\n",
    "import pandas as pd"
   ]
  },
  {
   "cell_type": "code",
   "execution_count": 5,
   "metadata": {},
   "outputs": [
    {
     "data": {
      "text/plain": [
       "(19, 5)"
      ]
     },
     "execution_count": 5,
     "metadata": {},
     "output_type": "execute_result"
    },
    {
     "data": {
      "text/html": [
       "<div>\n",
       "<style scoped>\n",
       "    .dataframe tbody tr th:only-of-type {\n",
       "        vertical-align: middle;\n",
       "    }\n",
       "\n",
       "    .dataframe tbody tr th {\n",
       "        vertical-align: top;\n",
       "    }\n",
       "\n",
       "    .dataframe thead th {\n",
       "        text-align: right;\n",
       "    }\n",
       "</style>\n",
       "<table border=\"1\" class=\"dataframe\">\n",
       "  <thead>\n",
       "    <tr style=\"text-align: right;\">\n",
       "      <th></th>\n",
       "      <th>Open</th>\n",
       "      <th>High</th>\n",
       "      <th>Low</th>\n",
       "      <th>Close</th>\n",
       "      <th>Volume</th>\n",
       "    </tr>\n",
       "    <tr>\n",
       "      <th>Date</th>\n",
       "      <th></th>\n",
       "      <th></th>\n",
       "      <th></th>\n",
       "      <th></th>\n",
       "      <th></th>\n",
       "    </tr>\n",
       "  </thead>\n",
       "  <tbody>\n",
       "    <tr>\n",
       "      <th>2020-02-27 01:51:00+00:00</th>\n",
       "      <td>167761.49</td>\n",
       "      <td>178565.38</td>\n",
       "      <td>165000.01</td>\n",
       "      <td>168764.01</td>\n",
       "      <td>358.79390</td>\n",
       "    </tr>\n",
       "    <tr>\n",
       "      <th>2020-02-27 01:52:00+00:00</th>\n",
       "      <td>167643.05</td>\n",
       "      <td>178565.38</td>\n",
       "      <td>165000.01</td>\n",
       "      <td>168764.01</td>\n",
       "      <td>357.62323</td>\n",
       "    </tr>\n",
       "    <tr>\n",
       "      <th>2020-02-27 01:53:00+00:00</th>\n",
       "      <td>167639.96</td>\n",
       "      <td>178565.38</td>\n",
       "      <td>165000.01</td>\n",
       "      <td>168896.91</td>\n",
       "      <td>357.71302</td>\n",
       "    </tr>\n",
       "    <tr>\n",
       "      <th>2020-02-27 01:54:00+00:00</th>\n",
       "      <td>168423.43</td>\n",
       "      <td>178565.38</td>\n",
       "      <td>165000.01</td>\n",
       "      <td>168765.00</td>\n",
       "      <td>359.22871</td>\n",
       "    </tr>\n",
       "    <tr>\n",
       "      <th>2020-02-27 01:55:01+00:00</th>\n",
       "      <td>168831.25</td>\n",
       "      <td>178565.38</td>\n",
       "      <td>165000.01</td>\n",
       "      <td>168101.24</td>\n",
       "      <td>359.35889</td>\n",
       "    </tr>\n",
       "  </tbody>\n",
       "</table>\n",
       "</div>"
      ],
      "text/plain": [
       "                                 Open        High         Low       Close  \\\n",
       "Date                                                                        \n",
       "2020-02-27 01:51:00+00:00   167761.49   178565.38   165000.01   168764.01   \n",
       "2020-02-27 01:52:00+00:00   167643.05   178565.38   165000.01   168764.01   \n",
       "2020-02-27 01:53:00+00:00   167639.96   178565.38   165000.01   168896.91   \n",
       "2020-02-27 01:54:00+00:00   168423.43   178565.38   165000.01   168765.00   \n",
       "2020-02-27 01:55:01+00:00   168831.25   178565.38   165000.01   168101.24   \n",
       "\n",
       "                               Volume  \n",
       "Date                                   \n",
       "2020-02-27 01:51:00+00:00   358.79390  \n",
       "2020-02-27 01:52:00+00:00   357.62323  \n",
       "2020-02-27 01:53:00+00:00   357.71302  \n",
       "2020-02-27 01:54:00+00:00   359.22871  \n",
       "2020-02-27 01:55:01+00:00   359.35889  "
      ]
     },
     "execution_count": 5,
     "metadata": {},
     "output_type": "execute_result"
    },
    {
     "data": {
      "text/html": [
       "<div>\n",
       "<style scoped>\n",
       "    .dataframe tbody tr th:only-of-type {\n",
       "        vertical-align: middle;\n",
       "    }\n",
       "\n",
       "    .dataframe tbody tr th {\n",
       "        vertical-align: top;\n",
       "    }\n",
       "\n",
       "    .dataframe thead th {\n",
       "        text-align: right;\n",
       "    }\n",
       "</style>\n",
       "<table border=\"1\" class=\"dataframe\">\n",
       "  <thead>\n",
       "    <tr style=\"text-align: right;\">\n",
       "      <th></th>\n",
       "      <th>Open</th>\n",
       "      <th>High</th>\n",
       "      <th>Low</th>\n",
       "      <th>Close</th>\n",
       "      <th>Volume</th>\n",
       "    </tr>\n",
       "    <tr>\n",
       "      <th>Date</th>\n",
       "      <th></th>\n",
       "      <th></th>\n",
       "      <th></th>\n",
       "      <th></th>\n",
       "      <th></th>\n",
       "    </tr>\n",
       "  </thead>\n",
       "  <tbody>\n",
       "    <tr>\n",
       "      <th>2020-02-27 02:05:03+00:00</th>\n",
       "      <td>167962.76</td>\n",
       "      <td>178560.31</td>\n",
       "      <td>165000.01</td>\n",
       "      <td>167833.41</td>\n",
       "      <td>358.46845</td>\n",
       "    </tr>\n",
       "    <tr>\n",
       "      <th>2020-02-27 02:06:04+00:00</th>\n",
       "      <td>167962.76</td>\n",
       "      <td>178560.31</td>\n",
       "      <td>165000.01</td>\n",
       "      <td>167891.95</td>\n",
       "      <td>358.38835</td>\n",
       "    </tr>\n",
       "    <tr>\n",
       "      <th>2020-02-27 02:07:03+00:00</th>\n",
       "      <td>167977.55</td>\n",
       "      <td>178560.31</td>\n",
       "      <td>165000.01</td>\n",
       "      <td>167805.38</td>\n",
       "      <td>358.37288</td>\n",
       "    </tr>\n",
       "    <tr>\n",
       "      <th>2020-02-27 02:08:04+00:00</th>\n",
       "      <td>168063.80</td>\n",
       "      <td>178198.74</td>\n",
       "      <td>165000.01</td>\n",
       "      <td>167806.28</td>\n",
       "      <td>357.97818</td>\n",
       "    </tr>\n",
       "    <tr>\n",
       "      <th>2020-02-27 02:09:04+00:00</th>\n",
       "      <td>167833.41</td>\n",
       "      <td>178198.74</td>\n",
       "      <td>165000.01</td>\n",
       "      <td>168980.93</td>\n",
       "      <td>357.86681</td>\n",
       "    </tr>\n",
       "  </tbody>\n",
       "</table>\n",
       "</div>"
      ],
      "text/plain": [
       "                                 Open        High         Low       Close  \\\n",
       "Date                                                                        \n",
       "2020-02-27 02:05:03+00:00   167962.76   178560.31   165000.01   167833.41   \n",
       "2020-02-27 02:06:04+00:00   167962.76   178560.31   165000.01   167891.95   \n",
       "2020-02-27 02:07:03+00:00   167977.55   178560.31   165000.01   167805.38   \n",
       "2020-02-27 02:08:04+00:00   168063.80   178198.74   165000.01   167806.28   \n",
       "2020-02-27 02:09:04+00:00   167833.41   178198.74   165000.01   168980.93   \n",
       "\n",
       "                               Volume  \n",
       "Date                                   \n",
       "2020-02-27 02:05:03+00:00   358.46845  \n",
       "2020-02-27 02:06:04+00:00   358.38835  \n",
       "2020-02-27 02:07:03+00:00   358.37288  \n",
       "2020-02-27 02:08:04+00:00   357.97818  \n",
       "2020-02-27 02:09:04+00:00   357.86681  "
      ]
     },
     "execution_count": 5,
     "metadata": {},
     "output_type": "execute_result"
    }
   ],
   "source": [
    "df = pd.read_csv('stackoverflow.questions.60982755.csv',index_col=0,parse_dates=True)\n",
    "\n",
    "df.index.name = 'Date'\n",
    "df.shape\n",
    "df.head()\n",
    "df.tail()"
   ]
  },
  {
   "cell_type": "code",
   "execution_count": 11,
   "metadata": {},
   "outputs": [
    {
     "data": {
      "text/plain": [
       "Index(['Open', 'High', 'Low', 'Close', 'Volume'], dtype='object')"
      ]
     },
     "execution_count": 11,
     "metadata": {},
     "output_type": "execute_result"
    }
   ],
   "source": [
    "df.columns = [col.strip() for col in df.columns]\n",
    "df.columns"
   ]
  },
  {
   "cell_type": "code",
   "execution_count": 12,
   "metadata": {},
   "outputs": [
    {
     "data": {
      "text/plain": [
       "'0.12.4a0'"
      ]
     },
     "execution_count": 12,
     "metadata": {},
     "output_type": "execute_result"
    }
   ],
   "source": [
    "import mplfinance as mpf\n",
    "mpf.__version__"
   ]
  },
  {
   "cell_type": "code",
   "execution_count": 25,
   "metadata": {},
   "outputs": [
    {
     "data": {
      "image/png": "[encoded data removed]",
      "text/plain": [
       "<Figure size 576x414 with 4 Axes>"
      ]
     },
     "metadata": {},
     "output_type": "display_data"
    }
   ],
   "source": [
    "mpf.plot(df,type='candle',volume=True)"
   ]
  },
  {
   "cell_type": "code",
   "execution_count": 24,
   "metadata": {},
   "outputs": [
    {
     "data": {
      "text/html": [
       "<div>\n",
       "<style scoped>\n",
       "    .dataframe tbody tr th:only-of-type {\n",
       "        vertical-align: middle;\n",
       "    }\n",
       "\n",
       "    .dataframe tbody tr th {\n",
       "        vertical-align: top;\n",
       "    }\n",
       "\n",
       "    .dataframe thead th {\n",
       "        text-align: right;\n",
       "    }\n",
       "</style>\n",
       "<table border=\"1\" class=\"dataframe\">\n",
       "  <thead>\n",
       "    <tr style=\"text-align: right;\">\n",
       "      <th></th>\n",
       "      <th>Open</th>\n",
       "      <th>High</th>\n",
       "      <th>Low</th>\n",
       "      <th>Close</th>\n",
       "      <th>Volume</th>\n",
       "    </tr>\n",
       "  </thead>\n",
       "  <tbody>\n",
       "    <tr>\n",
       "      <th>mean</th>\n",
       "      <td>168190.463684</td>\n",
       "      <td>178524.918421</td>\n",
       "      <td>1.650000e+05</td>\n",
       "      <td>168191.451579</td>\n",
       "      <td>358.806738</td>\n",
       "    </tr>\n",
       "    <tr>\n",
       "      <th>std</th>\n",
       "      <td>431.612733</td>\n",
       "      <td>114.969577</td>\n",
       "      <td>8.970403e-11</td>\n",
       "      <td>424.192030</td>\n",
       "      <td>0.725471</td>\n",
       "    </tr>\n",
       "    <tr>\n",
       "      <th>min</th>\n",
       "      <td>167630.310000</td>\n",
       "      <td>178198.740000</td>\n",
       "      <td>1.650000e+05</td>\n",
       "      <td>167630.310000</td>\n",
       "      <td>357.623230</td>\n",
       "    </tr>\n",
       "    <tr>\n",
       "      <th>max</th>\n",
       "      <td>168896.910000</td>\n",
       "      <td>178565.380000</td>\n",
       "      <td>1.650000e+05</td>\n",
       "      <td>168980.930000</td>\n",
       "      <td>359.941400</td>\n",
       "    </tr>\n",
       "  </tbody>\n",
       "</table>\n",
       "</div>"
      ],
      "text/plain": [
       "               Open           High           Low          Close      Volume\n",
       "mean  168190.463684  178524.918421  1.650000e+05  168191.451579  358.806738\n",
       "std      431.612733     114.969577  8.970403e-11     424.192030    0.725471\n",
       "min   167630.310000  178198.740000  1.650000e+05  167630.310000  357.623230\n",
       "max   168896.910000  178565.380000  1.650000e+05  168980.930000  359.941400"
      ]
     },
     "execution_count": 24,
     "metadata": {},
     "output_type": "execute_result"
    }
   ],
   "source": [
    "df.describe().loc[['mean','std','min','max']]"
   ]
  },
  {
   "cell_type": "code",
   "execution_count": null,
   "metadata": {},
   "outputs": [],
   "source": []
  }
 ],
 "metadata": {
  "kernelspec": {
   "display_name": "Python 3",
   "language": "python",
   "name": "python3"
  },
  "language_info": {
   "codemirror_mode": {
    "name": "ipython",
    "version": 3
   },
   "file_extension": ".py",
   "mimetype": "text/x-python",
   "name": "python",
   "nbconvert_exporter": "python",
   "pygments_lexer": "ipython3",
   "version": "3.7.4"
  }
 },
 "nbformat": 4,
 "nbformat_minor": 2
}
